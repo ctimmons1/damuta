{
 "cells": [
  {
   "cell_type": "markdown",
   "id": "e9d0349f",
   "metadata": {},
   "source": [
    "# The `config` File"
   ]
  },
  {
   "cell_type": "code",
   "execution_count": 9,
   "id": "b60108b3",
   "metadata": {
    "tags": [
     "nbsphinx-gallery"
    ]
   },
   "outputs": [
    {
     "data": {
      "text/plain": [
       "'/lila/home/harrigan/damuta/docs/tutorials'"
      ]
     },
     "execution_count": 9,
     "metadata": {},
     "output_type": "execute_result"
    }
   ],
   "source": [
    "import damuta as da\n",
    "import os\n",
    "os.getcwd()"
   ]
  },
  {
   "cell_type": "markdown",
   "id": "715c6497",
   "metadata": {},
   "source": [
    "## Load package provided config"
   ]
  },
  {
   "cell_type": "code",
   "execution_count": 10,
   "id": "b7cf96a4",
   "metadata": {},
   "outputs": [
    {
     "name": "stdout",
     "output_type": "stream",
     "text": [
      "Loaded configuration file /lila/home/harrigan/damuta/src/damuta/config/default.yaml\n",
      "{'data_seed': 97, 'counts_fp': ['data/pcawg_counts.csv', 'data/hartwig_counts.csv'], 'annotation_fp': ['data/pcawg_clinical_ann.csv', 'data/hartwig_clinical_ann.csv'], 'annotation_subset': None, 'dataset_sel': 'load_counts'}\n"
     ]
    }
   ],
   "source": [
    "dataset_args, model_args, pymc3_args = da.load_default_config()\n",
    "print(dataset_args)"
   ]
  },
  {
   "cell_type": "markdown",
   "id": "4f2014b1",
   "metadata": {},
   "source": [
    "Load a custom config"
   ]
  },
  {
   "cell_type": "code",
   "execution_count": 12,
   "id": "c00adba1",
   "metadata": {},
   "outputs": [
    {
     "name": "stdout",
     "output_type": "stream",
     "text": [
      "Loaded configuration file /lila/home/harrigan/damuta/config/tandtiss-defaults.yaml\n",
      "{'data_seed': 97, 'counts_fp': 'data/mutation_types_raw_counts.csv', 'annotation_fp': 'data/pcawg_cancer_types.csv', 'annotation_subset': ['Breast-A', 'Ovary'], 'dataset_sel': 'load_counts'}\n"
     ]
    }
   ],
   "source": [
    "dataset_args, model_args, pymc3_args = da.load_config(\"/lila/home/harrigan/damuta/config/tandtiss-defaults.yaml\")\n",
    "print(dataset_args)"
   ]
  }
 ],
 "metadata": {
  "celltoolbar": "Edit Metadata",
  "kernelspec": {
   "display_name": "Python 3 (ipykernel)",
   "language": "python",
   "name": "python3"
  },
  "language_info": {
   "codemirror_mode": {
    "name": "ipython",
    "version": 3
   },
   "file_extension": ".py",
   "mimetype": "text/x-python",
   "name": "python",
   "nbconvert_exporter": "python",
   "pygments_lexer": "ipython3",
   "version": "3.8.12"
  }
 },
 "nbformat": 4,
 "nbformat_minor": 5
}
