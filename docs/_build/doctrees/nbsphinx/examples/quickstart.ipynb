{
 "cells": [
  {
   "cell_type": "markdown",
   "id": "2bf53352",
   "metadata": {},
   "source": [
    "# Quickstart"
   ]
  },
  {
   "cell_type": "code",
   "execution_count": 1,
   "id": "2515a2be",
   "metadata": {},
   "outputs": [],
   "source": [
    "import os\n",
    "import sys\n",
    "module_path = os.path.abspath(os.path.join('../..'))\n",
    "if module_path not in sys.path:\n",
    "    sys.path.append(module_path)"
   ]
  },
  {
   "cell_type": "code",
   "execution_count": 2,
   "id": "9f1119f5",
   "metadata": {},
   "outputs": [
    {
     "data": {
      "text/plain": [
       "<Figure size 432x288 with 0 Axes>"
      ]
     },
     "metadata": {},
     "output_type": "display_data"
    }
   ],
   "source": [
    "import damuta as da\n"
   ]
  },
  {
   "cell_type": "markdown",
   "id": "debe71b3",
   "metadata": {},
   "source": [
    "Load COSMIC signatures provided in damuta"
   ]
  },
  {
   "cell_type": "code",
   "execution_count": null,
   "id": "3517d1dc",
   "metadata": {},
   "outputs": [],
   "source": [
    "da.load_cosmic_V3()\n"
   ]
  },
  {
   "cell_type": "code",
   "execution_count": null,
   "id": "7b95d5f6",
   "metadata": {},
   "outputs": [],
   "source": []
  }
 ],
 "metadata": {
  "kernelspec": {
   "display_name": "Python 3 (ipykernel)",
   "language": "python",
   "name": "python3"
  },
  "language_info": {
   "codemirror_mode": {
    "name": "ipython",
    "version": 3
   },
   "file_extension": ".py",
   "mimetype": "text/x-python",
   "name": "python",
   "nbconvert_exporter": "python",
   "pygments_lexer": "ipython3",
   "version": "3.8.12"
  }
 },
 "nbformat": 4,
 "nbformat_minor": 5
}
