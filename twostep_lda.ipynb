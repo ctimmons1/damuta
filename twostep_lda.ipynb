{
 "cells": [
  {
   "cell_type": "code",
   "execution_count": 1,
   "metadata": {},
   "outputs": [
    {
     "name": "stdout",
     "output_type": "stream",
     "text": [
      "cpu\n"
     ]
    }
   ],
   "source": [
    "%matplotlib inline\n",
    "import matplotlib.pyplot as plt\n",
    "import numpy as np\n",
    "import pymc3 as pm\n",
    "import arviz as az\n",
    "from sklearn.metrics.pairwise import cosine_similarity\n",
    "from sklearn.preprocessing import LabelEncoder\n",
    "import seaborn as sns\n",
    "import theano\n",
    "print(theano.config.device)\n",
    "\n",
    "np.random.seed(42)\n",
    "pm.set_tt_rng(42)\n"
   ]
  },
  {
   "cell_type": "code",
   "execution_count": 363,
   "metadata": {},
   "outputs": [],
   "source": [
    "C = 32\n",
    "J = 2\n",
    "K = 5\n",
    "N = np.array([1000, 1000, 100, 30])\n",
    "S = len(N)\n",
    "\n",
    "# Hyper-parameter for priors\n",
    "psi = np.ones(J)\n",
    "gamma = np.ones(K) * 0.1\n",
    "alpha = np.ones(C) * 0.1\n",
    "beta = np.ones((4,K)) * 0.1\n",
    "beta = np.repeat(np.array([[1, 0.1, 1, 1]]), K, axis=0)"
   ]
  },
  {
   "cell_type": "code",
   "execution_count": 364,
   "metadata": {},
   "outputs": [],
   "source": [
    "# Generate data\n",
    "theta_gen = pm.Dirichlet.dist(a=psi).random(size = S)\n",
    "phi_gen = pm.Dirichlet.dist(a=alpha, shape=(C)).random(size = J)\n",
    "A_gen = pm.Dirichlet.dist(a=gamma, shape=(J, K)).random(size = S)\n",
    "# ACGT\n",
    "# 0123\n",
    "eta_gen = np.vstack([pm.Dirichlet.dist(a=beta[:,[0,2,3]]).random(size=C//2), \n",
    "                     pm.Dirichlet.dist(a=beta[:,[0,1,2]]).random(size=C//2)])"
   ]
  },
  {
   "cell_type": "code",
   "execution_count": 397,
   "metadata": {},
   "outputs": [],
   "source": [
    "W=(theta_gen@phi_gen).T\n",
    "Q=np.einsum('ij,ijk->ik', theta_gen, A_gen)@eta_gen\n",
    "B=np.einsum('ij,ijk->jik',W,Q).reshape(S, -1)\n",
    "X=np.vstack([d.random(size = 1) for d in map(pm.Multinomial.dist, N, B)])"
   ]
  },
  {
   "cell_type": "markdown",
   "metadata": {},
   "source": [
    "## Full two step model"
   ]
  },
  {
   "cell_type": "markdown",
   "metadata": {},
   "source": [
    "def encode_counts(X):\n",
    "    # turn counts of position into word-style encoding\n",
    "    # https://laptrinhx.com/topic-modeling-with-pymc3-398251916/\n",
    "    S, C = X.shape\n",
    "    return [np.repeat(range(C), X[i].astype(int)) for i in range(S)]"
   ]
  },
  {
   "cell_type": "markdown",
   "metadata": {},
   "source": [
    "with pm.Model() as full_model:\n",
    "\n",
    "    phi = pm.Dirichlet('phi', a=alpha, shape=(J, C))\n",
    "    theta = pm.Dirichlet(\"theta\", a=psi, shape=(S, J))\n",
    "    A = pm.Dirichlet(\"A\", a=gamma, shape = (S, J))\n",
    "    etaC = pm.Dirichlet(\"etaC\", a=beta[[0,2,3]], shape=(C, K))\n",
    "    etaT = pm.Dirichlet(\"etaT\", a=beta[[0,1,3]], shape=(C, K))\n",
    "    eta = [etaC, etaT]\n",
    "    \n",
    "    for s in range(S):\n",
    "        # draw damage context signature\n",
    "        z = pm.Categorical(f\"z_{i}\", p=theta[s], shape=X[s].shape)\n",
    "        # draw mutation damage context\n",
    "        x = pm.Categorical(f\"x_{i}\", p = phi[z], shape=X[s].shape)\n",
    "        # draw mutation signature\n",
    "        v = pm.Categorical(f\"v_{i}\", p=A[z], shape=X[s].shape)\n",
    "        # draw mutation\n",
    "        y = pm.Categorical(f\"y_{i}\", p = eta[x > 16])"
   ]
  },
  {
   "cell_type": "markdown",
   "metadata": {},
   "source": [
    "Fit the model"
   ]
  },
  {
   "cell_type": "markdown",
   "metadata": {},
   "source": [
    "with full_model:    \n",
    "    full_trace = pm.sample(1000, return_inferencedata=True)"
   ]
  },
  {
   "cell_type": "markdown",
   "metadata": {},
   "source": [
    "Sanity check the result"
   ]
  },
  {
   "cell_type": "markdown",
   "metadata": {},
   "source": [
    "az.plot_posterior(full_trace, var_names=['theta']);"
   ]
  },
  {
   "cell_type": "markdown",
   "metadata": {},
   "source": [
    "plt.figure(figsize=(20,5))\n",
    "for j in range(J):\n",
    "    plt.subplot(2,1,j+1)\n",
    "    for c in range(C):\n",
    "        sns.distplot(full_trace.posterior['phi'][:, :, j, c], kde=False, hist=True, label=mut_types[c])\n",
    "    plt.title(f'Phi density estimates for topic {j}')\n",
    "    plt.legend(mut_types)"
   ]
  },
  {
   "cell_type": "markdown",
   "metadata": {},
   "source": [
    "with full_model:\n",
    "    phi_map = pm.find_MAP()['phi']\n",
    "    print(np.diag(cosine_similarity(phi_map, phi_gen)))\n"
   ]
  },
  {
   "cell_type": "markdown",
   "metadata": {},
   "source": [
    "## 'collapsed' two step LDA"
   ]
  },
  {
   "cell_type": "code",
   "execution_count": null,
   "metadata": {},
   "outputs": [],
   "source": [
    "## Generate data\n",
    "#theta_gen = pm.Dirichlet.dist(a=alpha).random(size = S)\n",
    "#phi_gen = pm.Dirichlet.dist(a=beta, shape=(J, C)).random(size = 1).squeeze()\n",
    "#X = np.vstack([d.random(size = 1) for d in map(pm.Multinomial.dist, N, theta_gen@phi_gen)])"
   ]
  },
  {
   "cell_type": "markdown",
   "metadata": {},
   "source": [
    "# Generate data\n",
    "theta_gen = np.array([0.3, 0.7, 0.8, 0.2, .5, .5]).reshape(S, J)\n",
    "phi_gen = np.array([0.25, 0.6, 0.05, 0.05, 0, 0.05, 1,0,0,0,0,0]).reshape(J, C)\n",
    "X = np.vstack([d.random(size = 1) for d in map(pm.Multinomial.dist, N, theta_gen@phi_gen)])"
   ]
  },
  {
   "cell_type": "markdown",
   "metadata": {},
   "source": [
    "with pm.Model() as collapsed_model:\n",
    "\n",
    "    phi = pm.Dirichlet('phi', a=beta, shape=(J, C))\n",
    "    theta = pm.Dirichlet(\"theta\", a=alpha, shape=(S, J))\n",
    "    \n",
    "    for i in range(S):\n",
    "        # Words of document\n",
    "        w = pm.Multinomial(f'sample_{i}', n = N[i], p = theta[i]@phi, observed=X[i])\n"
   ]
  },
  {
   "cell_type": "markdown",
   "metadata": {},
   "source": [
    "Fit the model"
   ]
  },
  {
   "cell_type": "markdown",
   "metadata": {},
   "source": [
    "with collapsed_model:\n",
    "    collapsed_trace = pm.sample(1000, return_inferencedata=True)"
   ]
  },
  {
   "cell_type": "markdown",
   "metadata": {},
   "source": [
    "#pm.plot_trace(trace);\n",
    "#az.plot_forest(collapsed_trace, r_hat=True);\n",
    "az.plot_posterior(collapsed_trace, var_names=['theta']);"
   ]
  },
  {
   "cell_type": "markdown",
   "metadata": {},
   "source": [
    "plt.figure(figsize=(20,5))\n",
    "for j in range(J):\n",
    "    plt.subplot(2,1,j+1)\n",
    "    for c in range(C):\n",
    "        sns.distplot(collapsed_trace.posterior['phi'][:, :, j, c], kde=False, hist=True, label=mut_types[c])\n",
    "    plt.title(f'Phi density estimates for topic {j}')\n",
    "    plt.legend(mut_types)"
   ]
  },
  {
   "cell_type": "markdown",
   "metadata": {},
   "source": [
    "with collapsed_model:\n",
    "    phi_map = pm.find_MAP()['phi']\n",
    "    print(np.diag(cosine_similarity(phi_map, phi_gen)))"
   ]
  }
 ],
 "metadata": {
  "kernelspec": {
   "display_name": "Python 3",
   "language": "python",
   "name": "python3"
  },
  "language_info": {
   "codemirror_mode": {
    "name": "ipython",
    "version": 3
   },
   "file_extension": ".py",
   "mimetype": "text/x-python",
   "name": "python",
   "nbconvert_exporter": "python",
   "pygments_lexer": "ipython3",
   "version": "3.8.8"
  }
 },
 "nbformat": 4,
 "nbformat_minor": 5
}
